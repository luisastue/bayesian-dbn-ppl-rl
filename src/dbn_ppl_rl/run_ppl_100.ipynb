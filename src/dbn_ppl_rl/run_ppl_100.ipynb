{
  "cells": [
    {
      "cell_type": "code",
      "execution_count": null,
      "metadata": {},
      "outputs": [],
      "source": [
        "include(\"../../../main.jl\")\n",
        "using PyCall;\n",
        "using Revise;\n",
        "using Gen;\n",
        "using Serialization\n",
        "using CairoMakie\n",
        "sepsis_gym = pyimport(\"dbn_ppl_rl\");"
      ]
    },
    {
      "cell_type": "code",
      "execution_count": 2,
      "metadata": {},
      "outputs": [],
      "source": [
        "# ts_runs = Dict(\n",
        "#     :SimplePPL => [RunData(\"$(label_dict[:SimplePPL])-$i\", :SimplePPL) for i in 1:3],\n",
        "#     :Softmax => [RunData(\"$(label_dict[:Softmax])-$i\", :Softmax) for i in 1:3],\n",
        "# )"
      ]
    },
    {
      "cell_type": "code",
      "execution_count": null,
      "metadata": {},
      "outputs": [],
      "source": [
        "for batch_size in [2^i for i in 1:6]\n",
        "    for j in 1:3\n",
        "        ts_runs[:SimplePPL][j] = thompson_sampling(ts_runs[:SimplePPL][j], batch_size, 1)\n",
        "        println(\"Batch size: $batch_size\", \" \", j)\n",
        "    end\n",
        "end\n",
        "for i in 100:100:3500\n",
        "    for j in 1:3\n",
        "        ts_runs[:Softmax][j] = thompson_sampling(ts_runs[:Softmax][j], 100, 1)\n",
        "    end\n",
        "end\n"
      ]
    }
  ],
  "metadata": {
    "kernelspec": {
      "display_name": "Julia 1.10.6",
      "language": "julia",
      "name": "julia-1.10"
    },
    "language_info": {
      "file_extension": ".jl",
      "mimetype": "application/julia",
      "name": "julia",
      "version": "1.10.6"
    }
  },
  "nbformat": 4,
  "nbformat_minor": 2
}
