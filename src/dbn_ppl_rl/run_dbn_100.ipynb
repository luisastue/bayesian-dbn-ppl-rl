{
  "cells": [
    {
      "cell_type": "code",
      "execution_count": 4,
      "metadata": {
        "id": "knNK19jyGpUl"
      },
      "outputs": [],
      "source": [
        "import matplotlib.pyplot as plt\n",
        "import numpy as np\n",
        "from dbn_ppl_rl import *"
      ]
    },
    {
      "cell_type": "code",
      "execution_count": null,
      "metadata": {},
      "outputs": [],
      "source": [
        "special_priors = np.full((n_states, n_actions, n_states), 5 / (n_states))"
      ]
    },
    {
      "cell_type": "code",
      "execution_count": null,
      "metadata": {},
      "outputs": [],
      "source": [
        "simple = [DirThompsonSampling(create_model(Simplification.SIMPLE,{},{}, {},{}, f\"Simple-{i}\", {})) for i in range(3)]\n",
        "medium = [DirThompsonSampling(create_model(Simplification.MEDIUM,{},{}, {},{}, f\"Medium-{i}\", {})) for i in range(3)]\n",
        "none = [DirThompsonSampling(create_model(Simplification.NONE,{},{}, {},{}, f\"None-{i}\", {})) for i in range(3)]\n",
        "none_small_priors = [DirThompsonSampling(create_model(Simplification.NONE,special_priors,{}, {},{}, f\"None-small-prior-{i}\", {})) for i in range(3)]"
      ]
    },
    {
      "cell_type": "code",
      "execution_count": null,
      "metadata": {
        "id": "W5TGVETP57tI"
      },
      "outputs": [],
      "source": [
        "# here, set to the model you want to run\n",
        "ts = simple[0]\n",
        "policy = random_policy()\n",
        "rewards = {}"
      ]
    },
    {
      "cell_type": "code",
      "execution_count": null,
      "metadata": {
        "id": "SYheWtTuFnfa"
      },
      "outputs": [],
      "source": [
        "V = np.zeros(n_states)\n",
        "for ep_ix in range(50000):\n",
        "    if ep_ix == 0 or (ep_ix < 100 and np.log2(ep_ix) % 1 == 0) or (ep_ix % 100 == 0):\n",
        "        state_counts = ts.model.get_state_counts()\n",
        "        policy, V = matrix_value_iteration(V, ts.model.transition_model())\n",
        "        rewards[ep_ix] = evaluate_policy(policy, 100000)\n",
        "        ts.add_data(ep_ix, rewards, policy, state_counts)\n",
        "        ts.save_json()\n",
        "        print(f\"Episode {ep_ix}, done\")\n",
        "    episode = run_episode(policy)\n",
        "    ts.model.update_state_counts(episode)\n"
      ]
    }
  ],
  "metadata": {
    "colab": {
      "machine_shape": "hm",
      "provenance": []
    },
    "kernelspec": {
      "display_name": "base",
      "language": "python",
      "name": "python3"
    },
    "language_info": {
      "codemirror_mode": {
        "name": "ipython",
        "version": 3
      },
      "file_extension": ".py",
      "mimetype": "text/x-python",
      "name": "python",
      "nbconvert_exporter": "python",
      "pygments_lexer": "ipython3",
      "version": "3.10.10"
    }
  },
  "nbformat": 4,
  "nbformat_minor": 0
}
