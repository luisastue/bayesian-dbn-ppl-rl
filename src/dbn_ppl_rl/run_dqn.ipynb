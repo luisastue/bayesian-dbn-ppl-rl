{
  "cells": [
    {
      "cell_type": "code",
      "execution_count": null,
      "metadata": {},
      "outputs": [],
      "source": [
        "import matplotlib.pyplot as plt\n",
        "import numpy as np\n",
        "from dbn_ppl_rl import *"
      ]
    },
    {
      "cell_type": "code",
      "execution_count": null,
      "metadata": {},
      "outputs": [],
      "source": [
        "import json\n",
        "import numpy as np\n",
        "\n",
        "# Define parameter sets\n",
        "param_sets = {\n",
        "    \"small_buff\": {\n",
        "        \"buffer_size\": 50000,\n",
        "        \"batch_size\": 16,\n",
        "        \"train_freq\": 1,\n",
        "        \"gradient_steps\": 1,\n",
        "        \"exploration_fraction\": 0.2,\n",
        "        \"exploration_final_eps\": 0.05,\n",
        "        \"target_update_interval\": 1000,\n",
        "    },\n",
        "    \"large_buff\": {\n",
        "        \"buffer_size\": 1000000,\n",
        "        \"batch_size\": 256,\n",
        "        \"train_freq\": 8,\n",
        "        \"gradient_steps\": 20,\n",
        "        \"exploration_fraction\": 0.05,\n",
        "        \"exploration_final_eps\": 0.01,\n",
        "        \"target_update_interval\": 1000,\n",
        "    },\n",
        "    \"medium\": {\n",
        "        \"buffer_size\": 500000,\n",
        "        \"batch_size\": 128,\n",
        "        \"train_freq\": 4,\n",
        "        \"gradient_steps\": 10,\n",
        "        \"exploration_fraction\": 0.2,\n",
        "        \"exploration_final_eps\": 0.05,\n",
        "        \"target_update_interval\": 500,\n",
        "    },\n",
        "    \"small_buff_small_expl\": {\n",
        "        \"buffer_size\": 50000,\n",
        "        \"batch_size\": 16,\n",
        "        \"train_freq\": 1,\n",
        "        \"gradient_steps\": 10,\n",
        "        \"exploration_fraction\": 0.01,\n",
        "        \"exploration_final_eps\": 0.005,\n",
        "        \"target_update_interval\": 1000,\n",
        "    },\n",
        "}\n",
        "\n",
        "# Configuration\n",
        "n_runs = 30\n",
        "n_steps = 200000\n",
        "\n",
        "tasks = [\n",
        "    (metric, param_sets[metric], run, n_steps)\n",
        "    for run in range(13, n_runs) \n",
        "    for metric in param_sets.keys()\n",
        "]\n",
        "\n",
        "for task in tasks:\n",
        "    train_and_log_rewards(task)\n"
      ]
    }
  ],
  "metadata": {
    "kernelspec": {
      "display_name": "base",
      "language": "python",
      "name": "python3"
    },
    "language_info": {
      "codemirror_mode": {
        "name": "ipython",
        "version": 3
      },
      "file_extension": ".py",
      "mimetype": "text/x-python",
      "name": "python",
      "nbconvert_exporter": "python",
      "pygments_lexer": "ipython3",
      "version": "3.10.10"
    }
  },
  "nbformat": 4,
  "nbformat_minor": 2
}
