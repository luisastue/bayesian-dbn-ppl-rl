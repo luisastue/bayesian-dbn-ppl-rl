{
  "cells": [
    {
      "cell_type": "code",
      "execution_count": 1,
      "metadata": {},
      "outputs": [
        {
          "name": "stderr",
          "output_type": "stream",
          "text": [
            "/Users/luisastue/miniconda3/lib/python3.10/site-packages/pandas/core/arrays/masked.py:60: UserWarning: Pandas requires version '1.3.6' or newer of 'bottleneck' (version '1.3.5' currently installed).\n",
            "  from pandas.core import (\n"
          ]
        }
      ],
      "source": [
        "include(\"main.jl\")\n",
        "using PyCall\n",
        "using CairoMakie\n",
        "sepsis_gym = pyimport(\"dbn_ppl_rl\")\n",
        "using Statistics\n"
      ]
    },
    {
      "cell_type": "code",
      "execution_count": 2,
      "metadata": {},
      "outputs": [],
      "source": [
        "struct MeanRewardsType\n",
        "    mean_rewards::Vector{Float64}\n",
        "    individual_runs::Vector{Vector{Float64}}\n",
        "    smoothed_mean::Vector{Float64}\n",
        "    smoothed_std_low::Vector{Float64}\n",
        "    smoothed_std_high::Vector{Float64}\n",
        "    keys_of_smoothed::Vector{Float64}\n",
        "    name::String\n",
        "    info::Dict\n",
        "end"
      ]
    },
    {
      "cell_type": "code",
      "execution_count": 3,
      "metadata": {},
      "outputs": [
        {
          "data": {
            "text/plain": [
              "load_rewards_from_json (generic function with 1 method)"
            ]
          },
          "metadata": {},
          "output_type": "display_data"
        }
      ],
      "source": [
        "\n",
        "function load_rewards_from_json(file_path)\n",
        "    json_data = JSON3.read(file_path)\n",
        "    mean_rewards = [Float64(rew) for rew in json_data[\"mean_rewards\"]]\n",
        "    individual_runs = [[Float64(rew) for rew in r] for r in json_data[\"individual_runs\"]]\n",
        "    smoothed_mean = [Float64(rew) for rew in json_data[\"smoothed_mean\"]]\n",
        "    smoothed_std_low = [Float64(rew) for rew in json_data[\"smoothed_std_low\"]]\n",
        "    smoothed_std_high = [Float64(rew) for rew in json_data[\"smoothed_std_high\"]]\n",
        "    keys_of_smoothed = [Int(k) for k in json_data[\"keys_of_smoothed\"]]\n",
        "    name = json_data[\"name\"]\n",
        "    info = Dict(\n",
        "        string(k) => string(v) for (k, v) in json_data[\"info\"]\n",
        "    )\n",
        "    return MeanRewardsType(mean_rewards, individual_runs, smoothed_mean, smoothed_std_low, smoothed_std_high, keys_of_smoothed, name, info)\n",
        "end"
      ]
    },
    {
      "cell_type": "code",
      "execution_count": 4,
      "metadata": {},
      "outputs": [
        {
          "data": {
            "text/plain": [
              "Dict{Symbol, MeanRewardsType} with 16 entries:\n",
              "  :Softmax1     => MeanRewardsType([-0.67245, -0.750493, -0.7667, -0.81518, -0.…\n",
              "  :None100P     => MeanRewardsType([-0.66737, -0.66169, -0.655537, -0.641487, -…\n",
              "  :None1P       => MeanRewardsType([-0.667683, -0.658437, -0.667097, -0.672253,…\n",
              "  :DQN_L        => MeanRewardsType([-0.740741, -0.666667, -0.740741, -0.814815,…\n",
              "  :SimplePPL100 => MeanRewardsType([-0.624323, -0.453003, -0.38704, -0.38704, -…\n",
              "  :DQN_M        => MeanRewardsType([-0.666667, -0.619048, -0.761905, -0.714286,…\n",
              "  :QLearning    => MeanRewardsType([-0.73, -0.7, -0.73, -0.6, -0.66, -0.67, -0.…\n",
              "  :Medium100    => MeanRewardsType([-0.671667, -0.64189, -0.64451, -0.64451, -0…\n",
              "  :Simple100    => MeanRewardsType([-0.671597, -0.62753, -0.618317, -0.618317, …\n",
              "  :None100      => MeanRewardsType([-0.658183, -0.67427, -0.668743, -0.668743, …\n",
              "  :Simple1      => MeanRewardsType([-0.65016, -0.60532, -0.634067, -0.55527, -0…\n",
              "  :Medium1      => MeanRewardsType([-0.652907, -0.668417, -0.666513, -0.650337,…\n",
              "  :SimplePPL1   => MeanRewardsType([-0.611203, -0.467777, -0.522927, -0.32263, …\n",
              "  :DQN_SS       => MeanRewardsType([-0.566667, -0.733333, -0.6, -0.733333, -0.7…\n",
              "  :Softmax100   => MeanRewardsType([-0.66947, -0.68896, -0.71846, -0.71846, -0.…\n",
              "  :DQN_S        => MeanRewardsType([-0.782609, -0.565217, -0.695652, -0.565217,…"
            ]
          },
          "metadata": {},
          "output_type": "display_data"
        }
      ],
      "source": [
        "rewards = Dict(\n",
        "    :Simple100 => load_rewards_from_json(\"data/processed/ts/Simple100.json\"),\n",
        "    :Medium100 => load_rewards_from_json(\"data/processed/ts/Medium100.json\"),\n",
        "    :None100 => load_rewards_from_json(\"data/processed/ts/None100.json\"),\n",
        "    :None100P => load_rewards_from_json(\"data/processed/ts/None100P.json\"),\n",
        "    :None1P => load_rewards_from_json(\"data/processed/ts/None1P.json\"),\n",
        "    :Softmax100 => load_rewards_from_json(\"data/processed/ts/Softmax100.json\"),\n",
        "    :SimplePPL100 => load_rewards_from_json(\"data/processed/ts/SimplePPL100.json\"),\n",
        "    :Simple1 => load_rewards_from_json(\"data/processed/ts/Simple1.json\"),\n",
        "    :Medium1 => load_rewards_from_json(\"data/processed/ts/Medium1.json\"),\n",
        "    :Softmax1 => load_rewards_from_json(\"data/processed/ts/Softmax1.json\"),\n",
        "    :SimplePPL1 => load_rewards_from_json(\"data/processed/ts/SimplePPL1.json\"),\n",
        "    :DQN_S => load_rewards_from_json(\"data/processed/dqn/small_buff.json\"),\n",
        "    :DQN_SS => load_rewards_from_json(\"data/processed/dqn/small_buff_small_expl.json\"),\n",
        "    :DQN_L => load_rewards_from_json(\"data/processed/dqn/large_buff.json\"),\n",
        "    :DQN_M => load_rewards_from_json(\"data/processed/dqn/medium.json\"),\n",
        "    :QLearning => load_rewards_from_json(\"data/processed/qlearning/q_learning_results.json\"),\n",
        ")"
      ]
    },
    {
      "cell_type": "code",
      "execution_count": 5,
      "metadata": {},
      "outputs": [],
      "source": []
    },
    {
      "cell_type": "code",
      "execution_count": 6,
      "metadata": {},
      "outputs": [
        {
          "data": {
            "text/plain": [
              "Dict{Symbol, String} with 20 entries:\n",
              "  :Simple       => \"\\$\\\\mathsf{SimpleDBN}\\$\"\n",
              "  :Softmax1     => \"\\$\\\\mathsf{SoftmaxPPL\\\\_TS1}\\$\"\n",
              "  :None100P     => \"\\$\\\\mathsf{FullDBN\\\\_SmallPrior\\\\_TS100}\\$\"\n",
              "  :None1P       => \"\\$\\\\mathsf{FullDBN\\\\_SmallPrior\\\\_TS1}\\$\"\n",
              "  :DQN_L        => \"\\$\\\\mathsf{DQN\\\\_LargeBuff}\\$\"\n",
              "  :SimplePPL100 => \"\\$\\\\mathsf{SimplePPL\\\\_TS100}\\$\"\n",
              "  :DQN_M        => \"\\$\\\\mathsf{DQN\\\\_M}\\$\"\n",
              "  :QLearning    => \"\\$\\\\mathsf{QLearning}\\$\"\n",
              "  :Medium100    => \"\\$\\\\mathsf{MediumDBN\\\\_TS100}\\$\"\n",
              "  :Simple100    => \"\\$\\\\mathsf{SimpleDBN\\\\_TS100}\\$\"\n",
              "  :Simple1      => \"\\$\\\\mathsf{SimpleDBN\\\\_TS1}\\$\"\n",
              "  :Medium       => \"\\$\\\\mathsf{MediumDBN}\\$\"\n",
              "  :Medium1      => \"\\$\\\\mathsf{MediumDBN\\\\_TS1}\\$\"\n",
              "  :None100      => \"\\$\\\\mathsf{FullDBN\\\\_TS100}\\$\"\n",
              "  :SimplePPL    => \"\\$\\\\mathsf{SimplePPL}\\$\"\n",
              "  :Softmax      => \"\\$\\\\mathsf{SoftmaxPPL}\\$\"\n",
              "  :SimplePPL1   => \"\\$\\\\mathsf{SimplePPL\\\\_TS1}\\$\"\n",
              "  :DQN_SS       => \"\\$\\\\mathsf{DQN\\\\_SmallBuff\\\\_SmallEps}\\$\"\n",
              "  :DQN_S        => \"\\$\\\\mathsf{DQN\\\\_SmallBuff}\\$\"\n",
              "  :Softmax100   => \"\\$\\\\mathsf{SoftmaxPPL\\\\_TS100}\\$\""
            ]
          },
          "metadata": {},
          "output_type": "display_data"
        }
      ],
      "source": [
        "latex_labels = Dict(\n",
        "    key => \"\\$\\\\mathsf{$(replace(value, \"_\" => \"\\\\_\"))}\\$\" for (key, value) in label_dict\n",
        ")"
      ]
    },
    {
      "cell_type": "code",
      "execution_count": 7,
      "metadata": {},
      "outputs": [
        {
          "data": {
            "text/plain": [
              "get_cumsums (generic function with 1 method)"
            ]
          },
          "metadata": {},
          "output_type": "display_data"
        }
      ],
      "source": [
        "function get_cumsums(means)\n",
        "    cumsums = Dict()\n",
        "    for (type, mean) in means\n",
        "        cumsums[type] = cumsum(mean.mean_rewards, dims=1)\n",
        "    end\n",
        "    return cumsums\n",
        "end"
      ]
    },
    {
      "cell_type": "code",
      "execution_count": 8,
      "metadata": {},
      "outputs": [
        {
          "data": {
            "text/plain": [
              "get_sample_efficiency (generic function with 2 methods)"
            ]
          },
          "metadata": {},
          "output_type": "display_data"
        }
      ],
      "source": [
        "function get_sample_efficiency(means, checkpoints=[-1:0.05:1])\n",
        "    sample_eff = Dict()\n",
        "    for (type, mean) in means\n",
        "        sample_eff[type] = Dict()\n",
        "        for checkpoint in checkpoints\n",
        "            index = findfirst(x -> x >= checkpoint, mean.smoothed_mean)\n",
        "            sample_eff[type][checkpoint] = isnothing(index) ? NaN : mean.keys_of_smoothed[index]\n",
        "            # index = findfirst(x -> x >= checkpoint, mean.mean_rewards)\n",
        "            # sample_eff[type][checkpoint] = isnothing(index) ? NaN : index\n",
        "        end\n",
        "    end\n",
        "    return sample_eff  \n",
        "end"
      ]
    },
    {
      "cell_type": "code",
      "execution_count": 9,
      "metadata": {},
      "outputs": [
        {
          "data": {
            "text/plain": [
              "get_asymptotic_reward (generic function with 2 methods)"
            ]
          },
          "metadata": {},
          "output_type": "display_data"
        }
      ],
      "source": [
        "function get_asymptotic_reward(means, checkpoints=[0.5,0.7,0.9,0.99])\n",
        "    asymptotic_rewards = Dict{Symbol, Float64}()\n",
        "    convergence_speeds = Dict{Symbol, Dict{Float64, Int}}()\n",
        "    lengths = Dict{Symbol, Int}()\n",
        "\n",
        "    for (type, m) in means\n",
        "        rewards = m.mean_rewards\n",
        "        # Store the length of the rewards array\n",
        "        lengths[type] = Int(m.keys_of_smoothed[end])\n",
        "        last_n = Int(round(lengths[type] / 100))\n",
        "\n",
        "        # Asymptotic mean reward\n",
        "        if !isempty(rewards)\n",
        "            asymptotic_rewards[type] = mean(rewards[end-last_n:end])\n",
        "        else\n",
        "            asymptotic_rewards[type] = NaN\n",
        "        end\n",
        "\n",
        "        # Convergence speed for each checkpoint\n",
        "        convergence_speeds[type] = Dict()\n",
        "        for checkpoint in checkpoints\n",
        "            min_reward = minimum(rewards)\n",
        "            max_reward = maximum(rewards)\n",
        "            reward_range = max_reward - min_reward\n",
        "            threshold_value = min_reward + checkpoint * reward_range\n",
        "            index = findfirst(x -> x >= threshold_value, rewards)\n",
        "            if isnothing(index)\n",
        "                convergence_speeds[type][checkpoint] = NaN  # Indicate no convergence\n",
        "            else\n",
        "                convergence_speeds[type][checkpoint] = index\n",
        "            end\n",
        "        end\n",
        "    end\n",
        "    return asymptotic_rewards, convergence_speeds, lengths\n",
        "end"
      ]
    },
    {
      "cell_type": "code",
      "execution_count": 10,
      "metadata": {},
      "outputs": [
        {
          "data": {
            "text/plain": [
              "3-element Vector{Vector{Symbol}}:\n",
              " [:SimplePPL1, :Softmax1, :Simple1, :Medium1, :None1P]\n",
              " [:SimplePPL100, :Softmax100, :Simple100, :Medium100, :None100, :None100P]\n",
              " [:QLearning, :DQN_L, :DQN_S, :DQN_SS]"
            ]
          },
          "metadata": {},
          "output_type": "display_data"
        }
      ],
      "source": [
        "type_order = [[:SimplePPL1, :Softmax1, :Simple1, :Medium1, :None1P], [:SimplePPL100, :Softmax100, :Simple100, :Medium100, :None100, :None100P],  [:QLearning, :DQN_L, :DQN_S, :DQN_SS]]"
      ]
    },
    {
      "cell_type": "code",
      "execution_count": 11,
      "metadata": {},
      "outputs": [
        {
          "data": {
            "text/plain": [
              "generate_asymptotic_rewards_table (generic function with 1 method)"
            ]
          },
          "metadata": {},
          "output_type": "display_data"
        }
      ],
      "source": [
        "using Printf\n",
        "\n",
        "# Helper function to format best/worst values across types with your adjustments\n",
        "function format_best_worst_across_types(values_matrix, digs; is_higher_better=true, skip=false)\n",
        "    rows, cols = size(values_matrix)\n",
        "    formatted_matrix = Array{String}(undef, rows, cols)  # Initialize a matrix to store formatted values\n",
        "\n",
        "    for col in 1:cols\n",
        "        column_values = values_matrix[:, col]\n",
        "        max_val = maximum(column_values[.!isnan.(column_values)]; init=-typemax(Int64))\n",
        "        min_val = minimum(column_values[.!isnan.(column_values)]; init=typemax(Int64))\n",
        "        for row in 1:rows\n",
        "            v = column_values[row]\n",
        "            if isnan(v)\n",
        "                formatted_matrix[row, col] = \"-\"\n",
        "            else\n",
        "                if digs == 0\n",
        "                    formatted_value = @sprintf(\"%d\", round(v, digits=digs))\n",
        "                elseif digs == 1\n",
        "                    formatted_value = @sprintf(\"%0.1f\", round(v, digits=digs))\n",
        "                elseif digs == 2\n",
        "                    formatted_value = @sprintf(\"%0.2f\", round(v, digits=digs))\n",
        "                elseif digs == 3\n",
        "                    formatted_value = @sprintf(\"%0.3f\", round(v, digits=digs))\n",
        "                else \n",
        "                    formatted_value = v\n",
        "                end\n",
        "                if v == max_val && is_higher_better && !skip\n",
        "                    formatted_matrix[row, col] = \"\\\\color{blue}{\\$$(formatted_value)\\$}\"\n",
        "                elseif v == min_val && !is_higher_better&& !skip\n",
        "                    formatted_matrix[row, col] = \"\\\\color{blue}{\\$$(formatted_value)\\$}\"\n",
        "                elseif v == min_val && is_higher_better&& !skip\n",
        "                    formatted_matrix[row, col] = \"\\\\color{red}{\\$$(formatted_value)\\$}\"\n",
        "                elseif v == max_val && !is_higher_better&& !skip\n",
        "                    formatted_matrix[row, col] = \"\\\\color{red}{\\$$(formatted_value)\\$}\"\n",
        "                else\n",
        "                    formatted_matrix[row, col] = \"\\$$(formatted_value)\\$\"\n",
        "                end\n",
        "            end\n",
        "        end\n",
        "    end\n",
        "    return formatted_matrix\n",
        "end\n",
        "\n",
        "# Generate LaTeX table for cumulative rewards\n",
        "function generate_cumulative_rewards_table(cumsums, checkpoints)\n",
        "    types = collect(keys(cumsums))\n",
        "    cols = length(checkpoints)\n",
        "    \n",
        "    # Collect rewards for each type at each checkpoint into a matrix\n",
        "    values_matrix = [length(cumsums[type]) >= chk ? cumsums[type][chk-1] : NaN for type in types, chk in checkpoints]\n",
        "\n",
        "    # Format the values with best/worst highlighting\n",
        "    formatted_matrix = format_best_worst_across_types(values_matrix, 2, is_higher_better=true)\n",
        "\n",
        "    # Create LaTeX table\n",
        "    header = \"\\\\hline\\n & \\$\" * join(checkpoints, \"\\$ & \\$\") * \"\\$ \\\\\\\\\\n\\\\hline\\n\"\n",
        "    rows = Dict()\n",
        "    for (i, type) in enumerate(types)\n",
        "        rows[type] = \"$(latex_labels[type]) & \" * join(formatted_matrix[i, :], \" & \") * \" \\\\\\\\\\n\"\n",
        "    end\n",
        "    rows_text = \"\"\n",
        "    for ts in type_order\n",
        "        for type in ts\n",
        "            rows_text *= rows[type]\n",
        "        end\n",
        "        rows_text *= \"\\\\hline\\n\"\n",
        "    end\n",
        "    return \"\\\\begin{tabular}{|l|\" * \"r\"^cols * \"|}\\n\\\\hline\\n\" * header * rows_text * \"\\\\hline\\n\\\\end{tabular}\"\n",
        "end\n",
        "\n",
        "# Generate LaTeX table for sample efficiency\n",
        "function generate_sample_efficiency_table(sample_eff, checkpoints, lengths)\n",
        "    types = collect(keys(sample_eff))\n",
        "    cols = length(checkpoints)\n",
        "    \n",
        "    # Collect sample efficiencies into a matrix\n",
        "    values_matrix = [sample_eff[type][chk] for type in types, chk in checkpoints]\n",
        "\n",
        "    # Format the values with best/worst highlighting\n",
        "    formatted_matrix = format_best_worst_across_types(values_matrix, 0, is_higher_better=false)\n",
        "\n",
        "    # Create LaTeX table\n",
        "    header = \"\\\\hline\\n & \\$\" * join(checkpoints, \"\\$ & \\$\") * \"\\$ & Length \\\\\\\\\\n\\\\hline\\n\"\n",
        "    rows = Dict()\n",
        "    for (i, type) in enumerate(types)\n",
        "        rows[type] = \"$(latex_labels[type]) & \" * join(formatted_matrix[i, :], \" & \") * \" & \\$$(lengths[type])\\$ \\\\\\\\\\n\"\n",
        "    end\n",
        "\n",
        "    rows_text = \"\"\n",
        "    for ts in type_order\n",
        "        for type in ts\n",
        "            rows_text *= rows[type]\n",
        "        end\n",
        "        rows_text *= \"\\\\hline\\n\"\n",
        "    end\n",
        "    return \"\\\\begin{tabular}{|l|\" * \"r\"^cols * \"|r|}\\n\\\\hline\\n\" * header * rows_text * \"\\\\hline\\n\\\\end{tabular}\"\n",
        "end\n",
        "\n",
        "# Generate LaTeX table for asymptotic rewards\n",
        "function generate_asymptotic_rewards_table(asymptotic_rewards, convergence_speeds, checkpoints, lengths)\n",
        "    types = collect(keys(asymptotic_rewards))\n",
        "    cols = length(checkpoints)\n",
        "    \n",
        "    # Collect convergence speeds into a matrix\n",
        "    conv_matrix = [convergence_speeds[type][chk] for type in types, chk in checkpoints]\n",
        "    asym_matrix = [asymptotic_rewards[type] for type in types, chk in [1]]\n",
        "\n",
        "    # Format the values with best/worst highlighting\n",
        "    formatted_conv = format_best_worst_across_types(conv_matrix, 0, is_higher_better=false, skip=true)\n",
        "    formatted_asym = format_best_worst_across_types(asym_matrix, 3, is_higher_better=true, )\n",
        "    percentages = [\"\\$$(Int(chk*100))\\\\%\\$\" for chk in checkpoints]\n",
        "    # Create LaTeX table\n",
        "    header = \"\\\\hline\\n & Asympt.~Rew. & \" * join(percentages, \" & \") * \" & Length \\\\\\\\\\n\\\\hline\\n\"\n",
        "    rows = Dict()\n",
        "    for (i, type) in enumerate(types)\n",
        "        rows[type] = \"$(latex_labels[type]) & {$(formatted_asym[i,1])} & \" * \n",
        "                     join(formatted_conv[i, :], \" & \") * \" & \\$$(lengths[type])\\$ \\\\\\\\\\n\"\n",
        "    end\n",
        "    rows_text = \"\"\n",
        "    for ts in type_order\n",
        "        for type in ts\n",
        "            rows_text *= rows[type]\n",
        "        end\n",
        "        rows_text *= \"\\\\hline\\n\"\n",
        "    end\n",
        "    return \"\\\\begin{tabular}{|l|r|\" * \"r\"^cols * \"|r|}\\n\\\\hline\\n\" * header * rows_text * \"\\\\hline\\n\\\\end{tabular}\"\n",
        "end\n",
        "\n",
        "\n"
      ]
    },
    {
      "cell_type": "code",
      "execution_count": 12,
      "metadata": {},
      "outputs": [
        {
          "name": "stdout",
          "output_type": "stream",
          "text": [
            "\\begin{tabular}{|l|rrrrrr|}\n",
            "\\hline\n",
            "\\hline\n",
            " & $10$ & $100$ & $150$ & $400$ & $1000$ & $3000$ \\\\\n",
            "\\hline\n",
            "$\\mathsf{SimplePPL\\_TS1}$ & \\color{blue}{$-3.77$} & $-25.91$ & $-36.82$ & $-91.07$ & - & - \\\\\n",
            "$\\mathsf{SoftmaxPPL\\_TS1}$ & \\color{red}{$-6.80$} & $-53.18$ & $-70.00$ & $-137.41$ & - & - \\\\\n",
            "$\\mathsf{SimpleDBN\\_TS1}$ & $-5.24$ & $-36.91$ & $-51.74$ & - & - & - \\\\\n",
            "$\\mathsf{MediumDBN\\_TS1}$ & $-5.77$ & $-52.97$ & $-75.41$ & $-164.50$ & - & - \\\\\n",
            "$\\mathsf{FullDBN\\_SmallPrior\\_TS1}$ & $-5.97$ & $-65.26$ & $-97.67$ & - & - & - \\\\\n",
            "\\hline\n",
            "$\\mathsf{SimplePPL\\_TS100}$ & $-3.78$ & \\color{blue}{$-21.82$} & \\color{blue}{$-28.58$} & \\color{blue}{$-64.26$} & \\color{blue}{$-143.31$} & \\color{blue}{$-422.26$} \\\\\n",
            "$\\mathsf{SoftmaxPPL\\_TS100}$ & $-6.26$ & $-58.21$ & $-83.68$ & $-176.00$ & $-286.61$ & $-596.47$ \\\\\n",
            "$\\mathsf{SimpleDBN\\_TS100}$ & $-5.36$ & $-34.38$ & $-46.83$ & $-109.72$ & $-251.75$ & $-697.69$ \\\\\n",
            "$\\mathsf{MediumDBN\\_TS100}$ & $-5.86$ & $-55.63$ & $-79.55$ & $-188.78$ & $-432.30$ & $-1194.55$ \\\\\n",
            "$\\mathsf{FullDBN\\_TS100}$ & $-6.05$ & \\color{red}{$-67.35$} & \\color{red}{$-99.44$} & \\color{red}{$-266.89$} & \\color{red}{$-659.05$} & \\color{red}{$-1942.07$} \\\\\n",
            "$\\mathsf{FullDBN\\_SmallPrior\\_TS100}$ & $-5.87$ & $-65.24$ & $-96.68$ & $-253.69$ & $-612.81$ & $-1674.07$ \\\\\n",
            "\\hline\n",
            "$\\mathsf{QLearning}$ & $-6.05$ & $-64.81$ & $-96.72$ & $-246.49$ & $-537.64$ & $-1402.47$ \\\\\n",
            "$\\mathsf{DQN\\_LargeBuff}$ & $-6.41$ & $-64.89$ & $-97.15$ & $-256.48$ & $-619.26$ & $-1373.11$ \\\\\n",
            "$\\mathsf{DQN\\_SmallBuff}$ & $-5.83$ & $-65.13$ & $-97.78$ & $-261.57$ & $-647.09$ & $-1833.87$ \\\\\n",
            "$\\mathsf{DQN\\_SmallBuff\\_SmallEps}$ & $-5.83$ & $-64.40$ & $-95.87$ & $-229.43$ & $-479.73$ & $-1122.17$ \\\\\n",
            "\\hline\n",
            "\\hline\n",
            "\\end{tabular}\n"
          ]
        }
      ],
      "source": [
        "cumsums = get_cumsums(rewards)\n",
        "sample_eff = get_sample_efficiency(rewards, [-0.6,-0.5,-0.4,-0.3,-0.2,-0.15])\n",
        "asymptotic_rewards, convergence_speeds, lengths = get_asymptotic_reward(rewards, [0.6,0.7,0.8,0.9,0.99])\n",
        "\n",
        "\n",
        "# Generate tables\n",
        "cumulative_table = generate_cumulative_rewards_table(cumsums, [10,100,150,400,1000,3000])\n",
        "sample_eff_table = generate_sample_efficiency_table(sample_eff, [-0.6,-0.5,-0.4,-0.3,-0.2,-0.15], lengths)\n",
        "asymptotic_table = generate_asymptotic_rewards_table(asymptotic_rewards, convergence_speeds, [0.6,0.7,0.8,0.9,0.99], lengths)\n",
        "\n",
        "# Print LaTeX tables\n",
        "println(cumulative_table)"
      ]
    },
    {
      "cell_type": "code",
      "execution_count": 13,
      "metadata": {},
      "outputs": [
        {
          "name": "stdout",
          "output_type": "stream",
          "text": [
            "\\begin{tabular}{|l|rrrrrr|r|}\n",
            "\\hline\n",
            "\\hline\n",
            " & $-0.6$ & $-0.5$ & $-0.4$ & $-0.3$ & $-0.2$ & $-0.15$ & Length \\\\\n",
            "\\hline\n",
            "$\\mathsf{SimplePPL\\_TS1}$ & \\color{blue}{$2$} & $3$ & \\color{blue}{$6$} & \\color{blue}{$13$} & $383$ & - & $400$ \\\\\n",
            "$\\mathsf{SoftmaxPPL\\_TS1}$ & $37$ & $58$ & $92$ & $192$ & - & - & $400$ \\\\\n",
            "$\\mathsf{SimpleDBN\\_TS1}$ & $3$ & $11$ & $28$ & $121$ & - & - & $299$ \\\\\n",
            "$\\mathsf{MediumDBN\\_TS1}$ & $11$ & $76$ & $185$ & $679$ & - & - & $924$ \\\\\n",
            "$\\mathsf{FullDBN\\_SmallPrior\\_TS1}$ & - & - & - & - & - & - & $360$ \\\\\n",
            "\\hline\n",
            "$\\mathsf{SimplePPL\\_TS100}$ & \\color{blue}{$2$} & \\color{blue}{$2$} & $8$ & $32$ & \\color{blue}{$100$} & \\color{blue}{$500$} & $3500$ \\\\\n",
            "$\\mathsf{SoftmaxPPL\\_TS100}$ & $64$ & $200$ & $300$ & $500$ & $900$ & $2600$ & $3400$ \\\\\n",
            "$\\mathsf{SimpleDBN\\_TS100}$ & $8$ & $16$ & $64$ & $200$ & - & - & $7600$ \\\\\n",
            "$\\mathsf{MediumDBN\\_TS100}$ & $32$ & $200$ & $1000$ & - & - & - & $7700$ \\\\\n",
            "$\\mathsf{FullDBN\\_TS100}$ & - & - & - & - & - & - & $7700$ \\\\\n",
            "$\\mathsf{FullDBN\\_SmallPrior\\_TS100}$ & $800$ & $2800$ & \\color{red}{$7300$} & \\color{red}{$25300$} & - & - & $36300$ \\\\\n",
            "\\hline\n",
            "$\\mathsf{QLearning}$ & $530$ & $1250$ & $4010$ & $20450$ & \\color{red}{$67850$} & - & $99770$ \\\\\n",
            "$\\mathsf{DQN\\_LargeBuff}$ & $770$ & $1370$ & $1850$ & $2690$ & $6890$ & \\color{red}{$18170$} & $26810$ \\\\\n",
            "$\\mathsf{DQN\\_SmallBuff}$ & $1850$ & $3650$ & $5090$ & $6170$ & $13010$ & - & $28130$ \\\\\n",
            "$\\mathsf{DQN\\_SmallBuff\\_SmallEps}$ & $170$ & $410$ & $890$ & $2570$ & $16250$ & - & $25490$ \\\\\n",
            "\\hline\n",
            "\\hline\n",
            "\\end{tabular}\n"
          ]
        }
      ],
      "source": [
        "println(sample_eff_table)"
      ]
    },
    {
      "cell_type": "code",
      "execution_count": 14,
      "metadata": {},
      "outputs": [
        {
          "name": "stdout",
          "output_type": "stream",
          "text": [
            "\\begin{tabular}{|l|r|rrrrr|r|}\n",
            "\\hline\n",
            "\\hline\n",
            " & Asympt.~Rew. & $60\\%$ & $70\\%$ & $80\\%$ & $90\\%$ & $99\\%$ & Length \\\\\n",
            "\\hline\n",
            "$\\mathsf{SimplePPL\\_TS1}$ & {$-0.224$} & $4$ & $12$ & $14$ & $34$ & $273$ & $400$ \\\\\n",
            "$\\mathsf{SoftmaxPPL\\_TS1}$ & {$-0.259$} & $45$ & $78$ & $90$ & $217$ & $248$ & $400$ \\\\\n",
            "$\\mathsf{SimpleDBN\\_TS1}$ & {$-0.225$} & $27$ & $44$ & $79$ & $138$ & $271$ & $299$ \\\\\n",
            "$\\mathsf{MediumDBN\\_TS1}$ & {$-0.283$} & $114$ & $181$ & $205$ & $339$ & $750$ & $924$ \\\\\n",
            "$\\mathsf{FullDBN\\_SmallPrior\\_TS1}$ & {$-0.609$} & $6$ & $145$ & $248$ & $248$ & $248$ & $360$ \\\\\n",
            "\\hline\n",
            "$\\mathsf{SimplePPL\\_TS100}$ & {\\color{blue}{$-0.132$}} & $17$ & $33$ & $33$ & $65$ & $401$ & $3500$ \\\\\n",
            "$\\mathsf{SoftmaxPPL\\_TS100}$ & {$-0.156$} & $301$ & $301$ & $401$ & $501$ & $1401$ & $3400$ \\\\\n",
            "$\\mathsf{SimpleDBN\\_TS100}$ & {$-0.213$} & $17$ & $33$ & $65$ & $501$ & $1201$ & $7600$ \\\\\n",
            "$\\mathsf{MediumDBN\\_TS100}$ & {$-0.356$} & $201$ & $201$ & $701$ & $1401$ & $5301$ & $7700$ \\\\\n",
            "$\\mathsf{FullDBN\\_TS100}$ & {\\color{red}{$-0.619$}} & $101$ & $901$ & $2001$ & $2201$ & $7401$ & $7700$ \\\\\n",
            "$\\mathsf{FullDBN\\_SmallPrior\\_TS100}$ & {$-0.275$} & $5502$ & $8002$ & $12702$ & $19802$ & $30902$ & $36300$ \\\\\n",
            "\\hline\n",
            "$\\mathsf{QLearning}$ & {$-0.192$} & $1276$ & $3435$ & $9481$ & $35390$ & $86722$ & $99770$ \\\\\n",
            "$\\mathsf{DQN\\_LargeBuff}$ & {$-0.139$} & $1183$ & $1712$ & $2739$ & $3543$ & $12483$ & $26810$ \\\\\n",
            "$\\mathsf{DQN\\_SmallBuff}$ & {$-0.157$} & $3223$ & $5509$ & $5717$ & $10250$ & $27992$ & $28130$ \\\\\n",
            "$\\mathsf{DQN\\_SmallBuff\\_SmallEps}$ & {$-0.193$} & $577$ & $756$ & $2627$ & $6681$ & $13381$ & $25490$ \\\\\n",
            "\\hline\n",
            "\\hline\n",
            "\\end{tabular}\n"
          ]
        }
      ],
      "source": [
        "\n",
        "println(asymptotic_table)"
      ]
    }
  ],
  "metadata": {
    "kernelspec": {
      "display_name": "Julia 1.10.6",
      "language": "julia",
      "name": "julia-1.10"
    },
    "language_info": {
      "file_extension": ".jl",
      "mimetype": "application/julia",
      "name": "julia",
      "version": "1.10.6"
    }
  },
  "nbformat": 4,
  "nbformat_minor": 2
}
