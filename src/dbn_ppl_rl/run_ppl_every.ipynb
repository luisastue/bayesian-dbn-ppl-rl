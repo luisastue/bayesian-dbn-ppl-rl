{
  "cells": [
    {
      "cell_type": "code",
      "execution_count": 1,
      "metadata": {},
      "outputs": [
        {
          "name": "stderr",
          "output_type": "stream",
          "text": [
            "/Users/luisastue/miniconda3/lib/python3.10/site-packages/pandas/core/arrays/masked.py:60: UserWarning: Pandas requires version '1.3.6' or newer of 'bottleneck' (version '1.3.5' currently installed).\n",
            "  from pandas.core import (\n"
          ]
        }
      ],
      "source": [
        "include(\"../../../main.jl\")\n",
        "using PyCall;\n",
        "using Revise;\n",
        "using Gen;\n",
        "using Serialization\n",
        "using CairoMakie\n",
        "sepsis_gym = pyimport(\"dbn_ppl_rl\");"
      ]
    },
    {
      "cell_type": "code",
      "execution_count": null,
      "metadata": {},
      "outputs": [],
      "source": [
        "# ts_runs = Dict(\n",
        "#     :SimplePPL => [RunData(\"$(label_dict[:SimplePPL])-every-$i\", :SimplePPL) for i in 1:3],\n",
        "#     :Softmax => [RunData(\"$(label_dict[:Softmax])-every-$i\", :Softmax) for i in 1:3],\n",
        "# )"
      ]
    },
    {
      "cell_type": "code",
      "execution_count": null,
      "metadata": {},
      "outputs": [],
      "source": [
        "ts_runs = Dict(\n",
        "    :SimplePPL => [load_jld(\"data/raw/ppl/$(label_dict[:SimplePPL])-every-$i.jld\") for i in 1:3],\n",
        "    :Softmax => [load_jld(\"data/raw/ppl/$(label_dict[:Softmax])-every-$i.jld\") for i in 1:3],\n",
        ")"
      ]
    },
    {
      "cell_type": "code",
      "execution_count": null,
      "metadata": {},
      "outputs": [
        {
          "data": {
            "text/plain": [
              "400"
            ]
          },
          "execution_count": 3,
          "metadata": {},
          "output_type": "execute_result"
        }
      ],
      "source": [
        "mx=0;\n",
        "mx = maximum(keys(ts_runs[:Softmax][1].mean_rewards))"
      ]
    },
    {
      "cell_type": "code",
      "execution_count": 4,
      "metadata": {},
      "outputs": [
        {
          "name": "stdout",
          "output_type": "stream",
          "text": [
            "401 1\n",
            "401 2\n",
            "401 3\n",
            "402 1\n",
            "402 2\n",
            "402 3\n",
            "403 1\n",
            "403 2\n",
            "403 3\n",
            "404 1\n",
            "404 2\n",
            "404 3\n",
            "405 1\n",
            "405 2\n",
            "405 3\n",
            "406 1\n",
            "406 2\n",
            "406 3\n",
            "407 1\n",
            "407 2\n",
            "407 3\n",
            "408 1\n",
            "408 2\n",
            "408 3\n",
            "409 1\n",
            "409 2\n",
            "409 3\n",
            "410 1\n",
            "410 2\n",
            "410 3\n"
          ]
        }
      ],
      "source": [
        "for i in (mx+1):410\n",
        "    for j in 1:3\n",
        "        ts_runs[:Softmax][j] = thompson_sampling(ts_runs[:Softmax][j], 1, 1)\n",
        "        println(\"$i $j\")\n",
        "    end\n",
        "end\n"
      ]
    }
  ],
  "metadata": {
    "kernelspec": {
      "display_name": "Julia 1.10.6",
      "language": "julia",
      "name": "julia-1.10"
    },
    "language_info": {
      "file_extension": ".jl",
      "mimetype": "application/julia",
      "name": "julia",
      "version": "1.10.6"
    }
  },
  "nbformat": 4,
  "nbformat_minor": 2
}
