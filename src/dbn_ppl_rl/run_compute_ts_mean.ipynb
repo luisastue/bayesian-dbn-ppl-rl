{
  "cells": [
    {
      "cell_type": "code",
      "execution_count": null,
      "metadata": {},
      "outputs": [],
      "source": [
        "include(\"main.jl\")\n",
        "using PyCall\n",
        "using CairoMakie\n",
        "sepsis_gym = pyimport(\"dbn_ppl_rl\")\n",
        "using Statistics\n"
      ]
    },
    {
      "cell_type": "code",
      "execution_count": 8,
      "metadata": {},
      "outputs": [],
      "source": [
        "struct MeansType\n",
        "    individual_runs::Vector{Vector{Float64}}\n",
        "    mean_rewards::Vector{Float64}\n",
        "    smoothed_mean::Vector{Float64}\n",
        "    smoothed_std_low::Vector{Float64}\n",
        "    smoothed_std_high::Vector{Float64}\n",
        "    keys_of_smoothed::Vector{Int64}\n",
        "end\n"
      ]
    },
    {
      "cell_type": "code",
      "execution_count": null,
      "metadata": {},
      "outputs": [
        {
          "data": {
            "text/plain": [
              "Dict{Symbol, Vector} with 11 entries:\n",
              "  :Softmax1     => RunData[RunData(\"SoftmaxPPL-every-1\", :Softmax, ModelData(Dy…\n",
              "  :None100P     => PyObject[PyObject <dbn_ppl_rl.models.dbn.evaluate.thompson_s…\n",
              "  :SimplePPL100 => RunData[RunData(\"SimplePPL-1\", :SimplePPL, ModelData(Dynamic…\n",
              "  :Medium100    => PyObject[PyObject <dbn_ppl_rl.models.dbn.evaluate.thompson_s…\n",
              "  :Simple100    => PyObject[PyObject <dbn_ppl_rl.models.dbn.evaluate.thompson_s…\n",
              "  :None100      => PyObject[PyObject <dbn_ppl_rl.models.dbn.evaluate.thompson_s…\n",
              "  :Simple1      => PyObject[PyObject <dbn_ppl_rl.models.dbn.evaluate.thompson_s…\n",
              "  :Medium1      => PyObject[PyObject <dbn_ppl_rl.models.dbn.evaluate.thompson_s…\n",
              "  :SimplePPL1   => RunData[RunData(\"SimplePPL-every-1\", :SimplePPL, ModelData(D…\n",
              "  :None1P       => PyObject[PyObject <dbn_ppl_rl.models.dbn.evaluate.thompson_s…\n",
              "  :Softmax100   => RunData[RunData(\"SoftmaxPPL-1\", :Softmax, ModelData(DynamicC…"
            ]
          },
          "metadata": {},
          "output_type": "display_data"
        }
      ],
      "source": [
        "ts = Dict(\n",
        "    :Simple100 => [sepsis_gym.DirThompsonSampling.load_json(\"data/raw/dbn/Simple-$i.json\") for i in 0:2],\n",
        "    :Medium100 => [sepsis_gym.DirThompsonSampling.load_json(\"data/raw/dbn/Medium-$i.json\") for i in 0:2],\n",
        "    :None100P => [sepsis_gym.DirThompsonSampling.load_json(\"data/raw/dbn/None-small-prior-$i.json\") for i in 0:2],\n",
        "    :None100 => [sepsis_gym.DirThompsonSampling.load_json(\"data/raw/dbn/None-$i.json\") for i in 0:2],\n",
        "    :Simple1 => [sepsis_gym.DirThompsonSampling.load_json(\"data/raw/dbn/Simple-every-$i.json\") for i in 0:2],\n",
        "    :Medium1 => [sepsis_gym.DirThompsonSampling.load_json(\"data/raw/dbn/Medium-every-$i.json\") for i in 0:2],\n",
        "    :None1P => [sepsis_gym.DirThompsonSampling.load_json(\"data/raw/dbn/None-small-prior-every-$i.json\") for i in 0:2],\n",
        "    :Softmax100 => [load_jld(\"data/raw/ppl/SoftmaxPPL-$i.jld\")  for i in 1:3],\n",
        "    :SimplePPL100 => [load_jld(\"data/raw/ppl/SimplePPL-$i.jld\")  for i in 1:3],\n",
        "    :Softmax1 => [load_jld(\"data/raw/ppl/SoftmaxPPL-every-$i.jld\")  for i in 1:3],\n",
        "    :SimplePPL1 => [load_jld(\"data/raw/ppl/SimplePPL-every-$i.jld\")  for i in 1:3],\n",
        ")"
      ]
    },
    {
      "cell_type": "code",
      "execution_count": 10,
      "metadata": {},
      "outputs": [
        {
          "data": {
            "text/plain": [
              "process_runs (generic function with 1 method)"
            ]
          },
          "metadata": {},
          "output_type": "display_data"
        }
      ],
      "source": [
        "\n",
        "function calculate_smoothing(mean_reward::Vector{Float64}, std_reward::Vector{Float64}, max_window_size::Int64)\n",
        "    n = length(mean_reward)\n",
        "    smoothed_mean = mean_reward\n",
        "    smoothed_std_low = mean_reward .- std_reward\n",
        "    smoothed_std_high = mean_reward .+ std_reward\n",
        "\n",
        "    for idx in 1:n\n",
        "        # Determine the dynamic window size\n",
        "        window_size = min(max_window_size, idx, n - idx + 1)\n",
        "        half_window = div(window_size, 2)\n",
        "\n",
        "        # Compute the start and end of the window\n",
        "        start_idx = max(1, idx - half_window)\n",
        "        end_idx = min(n, idx + half_window)\n",
        "\n",
        "        # Calculate the smoothed values for the current window\n",
        "        window_mean = mean_reward[start_idx:end_idx]\n",
        "        window_std = std_reward[start_idx:end_idx]\n",
        "        smoothed_mean[idx] = mean(window_mean)\n",
        "        smoothed_std_low[idx] = smoothed_mean[idx] - mean(window_std)\n",
        "        smoothed_std_high[idx] = smoothed_mean[idx] + mean(window_std)\n",
        "    end\n",
        "\n",
        "    return smoothed_mean, smoothed_std_low, smoothed_std_high\n",
        "end\n",
        "\n",
        "function process_runs(results, max_window_size, is_100)\n",
        "    means = Dict()\n",
        "\n",
        "    for (key, run) in results\n",
        "        if is_100 && !occursin(\"100\", String(key)) || !is_100 && occursin(\"100\", String(key))\n",
        "            continue\n",
        "        end\n",
        "\n",
        "        # Extract and align keys across models\n",
        "        all_keys = [sort(collect(keys(model.mean_rewards))) for model in run]\n",
        "        min_keys = minimum(length.(all_keys))\n",
        "        ks = all_keys[1][1:min_keys]\n",
        "\n",
        "        filled_rewards = []\n",
        "        all_rewards = []\n",
        "\n",
        "        # Process individual runs\n",
        "        for model in run\n",
        "            rewards = [model.mean_rewards[ks[1]]]  # Start with the first key's reward\n",
        "            for i in 2:min_keys\n",
        "                k = ks[i]\n",
        "                mult_factor = k - ks[i - 1]\n",
        "                # Fill rewards over 100 steps for 100-types\n",
        "                push!(rewards, fill(model.mean_rewards[k], mult_factor)...)\n",
        "            end\n",
        "            # Add filled rewards and original non-filled rewards\n",
        "            push!(filled_rewards, rewards)\n",
        "            push!(all_rewards, [model.mean_rewards[k] for k in ks])\n",
        "        end\n",
        "\n",
        "        # Compute mean and standard deviation over non-filled rewards\n",
        "        mean_rewards = mean(hcat(all_rewards...), dims=2)[:]\n",
        "        std_rewards = std(hcat(all_rewards...), dims=2)[:]\n",
        "\n",
        "        # Dynamically smooth the means and std\n",
        "        smoothed_mean, smoothed_std_low, smoothed_std_high = calculate_smoothing(mean_rewards, std_rewards, max_window_size)\n",
        "\n",
        "        # Save to structure\n",
        "        means[key] = MeansType(\n",
        "            filled_rewards,\n",
        "            mean(hcat(filled_rewards...), dims=2)[:],\n",
        "            smoothed_mean,\n",
        "            smoothed_std_low,\n",
        "            smoothed_std_high,\n",
        "            ks\n",
        "        )\n",
        "    end\n",
        "    return means\n",
        "end\n"
      ]
    },
    {
      "cell_type": "code",
      "execution_count": 11,
      "metadata": {},
      "outputs": [
        {
          "data": {
            "text/plain": [
              "Dict{Any, Any} with 6 entries:\n",
              "  :None100P     => MeansType([[-0.67594, -0.62842, -0.68253, -0.63209, -0.63209…\n",
              "  :SimplePPL100 => MeansType([[-0.62715, -0.36589, -0.42002, -0.42002, -0.54821…\n",
              "  :Medium100    => MeansType([[-0.70404, -0.66129, -0.62742, -0.62742, -0.69871…\n",
              "  :Simple100    => MeansType([[-0.67862, -0.67333, -0.62492, -0.62492, -0.60324…\n",
              "  :None100      => MeansType([[-0.68426, -0.7111, -0.65799, -0.65799, -0.6539, …\n",
              "  :Softmax100   => MeansType([[-0.71519, -0.7079, -0.73134, -0.73134, -0.79105,…"
            ]
          },
          "metadata": {},
          "output_type": "display_data"
        }
      ],
      "source": [
        "means_1 = process_runs(ts, 100, false)\n",
        "means_100 = process_runs(ts, 6, true)"
      ]
    },
    {
      "cell_type": "code",
      "execution_count": 12,
      "metadata": {},
      "outputs": [
        {
          "name": "stdout",
          "output_type": "stream",
          "text": [
            "Softmax1\n"
          ]
        },
        {
          "ename": "SystemError",
          "evalue": "SystemError: opening file \"json/ts/Softmax1.json\": No such file or directory",
          "output_type": "error",
          "traceback": [
            "SystemError: opening file \"json/ts/Softmax1.json\": No such file or directory\n",
            "\n",
            "Stacktrace:\n",
            "  [1] systemerror(p::String, errno::Int32; extrainfo::Nothing)\n",
            "    @ Base ./error.jl:176\n",
            "  [2] systemerror\n",
            "    @ ./error.jl:175 [inlined]\n",
            "  [3] open(fname::String; lock::Bool, read::Nothing, write::Nothing, create::Nothing, truncate::Bool, append::Nothing)\n",
            "    @ Base ./iostream.jl:293\n",
            "  [4] open\n",
            "    @ ./iostream.jl:275 [inlined]\n",
            "  [5] open(fname::String, mode::String; lock::Bool)\n",
            "    @ Base ./iostream.jl:356\n",
            "  [6] open(fname::String, mode::String)\n",
            "    @ Base ./iostream.jl:355\n",
            "  [7] open(::JSON3.var\"#62#63\"{@Kwargs{}, Dict{String, Any}}, ::String, ::Vararg{String}; kwargs::@Kwargs{})\n",
            "    @ Base ./io.jl:394\n",
            "  [8] open(::Function, ::String, ::String)\n",
            "    @ Base ./io.jl:393\n",
            "  [9] #write#61\n",
            "    @ ~/.julia/packages/JSON3/ntJon/src/write.jl:45 [inlined]\n",
            " [10] write\n",
            "    @ ~/.julia/packages/JSON3/ntJon/src/write.jl:44 [inlined]\n",
            " [11] save_means_to_json(means::Dict{Any, Any}, directory::String)\n",
            "    @ Main ~/thesis/bayesian-dbn-ppl-rl/src/dbn_ppl_rl/jl_notebook_cell_df34fa98e69747e1a8f8a730347b8e2f_W5sZmlsZQ==.jl:17\n",
            " [12] top-level scope\n",
            "    @ ~/thesis/bayesian-dbn-ppl-rl/src/dbn_ppl_rl/jl_notebook_cell_df34fa98e69747e1a8f8a730347b8e2f_W5sZmlsZQ==.jl:22"
          ]
        }
      ],
      "source": [
        "using JSON3\n",
        "\n",
        "function save_means_to_json(means, directory)\n",
        "    for (key, value) in means\n",
        "        println(key)\n",
        "        file_path = joinpath(directory, \"$(key).json\")\n",
        "        json_data = Dict(\n",
        "            \"individual_runs\" => value.individual_runs,\n",
        "            \"mean_rewards\" => value.mean_rewards,\n",
        "            \"smoothed_mean\" => value.smoothed_mean,\n",
        "            \"smoothed_std_low\" => value.smoothed_std_low,\n",
        "            \"smoothed_std_high\" => value.smoothed_std_high,\n",
        "            \"keys_of_smoothed\" => value.keys_of_smoothed,\n",
        "            \"name\"=> key,\n",
        "            \"info\" => Dict(),\n",
        "        )\n",
        "        JSON3.write(file_path, json_data)\n",
        "    end\n",
        "end\n",
        "\n",
        "# Save means to JSON files in the \"means_json\" directory\n",
        "save_means_to_json(means_1, \"json/ts/\")\n",
        "save_means_to_json(means_100, \"json/ts/\")"
      ]
    }
  ],
  "metadata": {
    "kernelspec": {
      "display_name": "Julia 1.10.6",
      "language": "julia",
      "name": "julia-1.10"
    },
    "language_info": {
      "file_extension": ".jl",
      "mimetype": "application/julia",
      "name": "julia",
      "version": "1.10.6"
    }
  },
  "nbformat": 4,
  "nbformat_minor": 2
}
